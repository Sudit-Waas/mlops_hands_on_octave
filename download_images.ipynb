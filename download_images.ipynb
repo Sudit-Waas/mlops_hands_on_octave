{
 "cells": [
  {
   "cell_type": "code",
   "execution_count": null,
   "metadata": {},
   "outputs": [],
   "source": [
    "!pip install torch -q duckduckgo_search"
   ]
  },
  {
   "cell_type": "code",
   "execution_count": null,
   "metadata": {},
   "outputs": [],
   "source": [
    "from duckduckgo_search import DDGS\n"
   ]
  },
  {
   "cell_type": "code",
   "execution_count": null,
   "metadata": {},
   "outputs": [],
   "source": [
    "# Function to get image urls from duck duck go search engine\n",
    "def get_images(name, num=100):\n",
    "  \"\"\"Function to get image urls from duck duck go search engine\"\"\"\n",
    "  images = []\n",
    "  with DDGS() as ddgs:\n",
    "      keywords = name\n",
    "      ddgs_images_gen = ddgs.images(\n",
    "        keywords,\n",
    "        region=\"wt-wt\",\n",
    "        safesearch=\"off\",\n",
    "        size=\"Medium\",\n",
    "        type_image=\"photo\",\n",
    "        layout=None,\n",
    "        license_image=\"any\",\n",
    "        max_results=num,\n",
    "      )\n",
    "      for r in ddgs_images_gen:\n",
    "          images.append(r['image'])\n",
    "\n",
    "  return images\n"
   ]
  },
  {
   "cell_type": "code",
   "execution_count": null,
   "metadata": {},
   "outputs": [],
   "source": [
    "# downloading 200 dog imges\n",
    "dogs = get_images(\"dogs\", 200)\n"
   ]
  },
  {
   "cell_type": "code",
   "execution_count": null,
   "metadata": {},
   "outputs": [],
   "source": [
    "dgimages = []\n",
    "for dg_image in dgs[\"results\"]:\n",
    "  dgimages.append(dg_image['image'])"
   ]
  },
  {
   "cell_type": "code",
   "execution_count": null,
   "metadata": {},
   "outputs": [],
   "source": [
    "import json\n",
    "with open(\"test\", \"w\") as fp:\n",
    "  json.dump(dgimages, fp)"
   ]
  },
  {
   "cell_type": "code",
   "execution_count": null,
   "metadata": {},
   "outputs": [],
   "source": [
    "with open(\"test\", \"r\") as fp:\n",
    "  b = json.load(fp)"
   ]
  }
 ],
 "metadata": {
  "language_info": {
   "name": "python"
  }
 },
 "nbformat": 4,
 "nbformat_minor": 2
}
